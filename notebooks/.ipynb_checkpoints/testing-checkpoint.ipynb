{
 "cells": [
  {
   "cell_type": "code",
   "execution_count": 1,
   "metadata": {},
   "outputs": [],
   "source": [
    "import numpy as np\n",
    "from scipy.interpolate import interp1d\n",
    "from matplotlib import pyplot as plt"
   ]
  },
  {
   "cell_type": "code",
   "execution_count": 5,
   "metadata": {},
   "outputs": [],
   "source": [
    "mon2sec = 30*24*3600 # conversion factor between months and seconds\n",
    "\n",
    "## PARAMETERS TO CHANGE ##################################################################################\n",
    "t_start = 0 # time when eruption happens [seconds]\n",
    "\n",
    "D = 30 # Diffusion rate [(lattitude degrees)^2/month]\n",
    "gamma = 0.01  # Precipitation rate [1/month]\n",
    "\n",
    "a = 15 # Half-width of eruption/initial aerosol column [lattitude degrees]\n",
    "B = 0.5 # Maximum relative aerosol concentration\n",
    "beta = 0.75 # Scale factor when converting relative aerosol concentration to relative radiation blocking\n",
    "\n",
    "dt = 0.2 # time step [months]\n",
    "t_end = 12*10 # stop time [months] for shorter computation\n",
    "\n",
    "dt_long = 60 # longer time step for extrapolation [months]\n",
    "t_max = 1E11/mon2sec # maximum time [months]\n",
    "###########################################################################################################\n",
    "\n",
    "N = 50 # Number of spatial intervals\n",
    "x = np.linspace(-90,90,N+1) # Spatial discretization\n",
    "h = x[1] - x[0] # Step size [lattitude degrees]\n",
    "\n",
    "if dt*(2*D/h**2 + gamma) >= 1: # check that solution will be stable\n",
    "    print('Solution unstable. dt*(2*D/h^2 + gamma) = ', dt*(2*D/h**2 + gamma))"
   ]
  },
  {
   "cell_type": "code",
   "execution_count": 8,
   "metadata": {},
   "outputs": [],
   "source": [
    "def getCDM(): # Central different matrix\n",
    "    CDM = np.zeros((N-1,N-1))\n",
    "    for i in range(N-1):\n",
    "        CDM[i,i] += -gamma\n",
    "        if i != 0:\n",
    "            CDM[i,i] += -D/h**2\n",
    "            CDM[i,i-1] = D/h**2\n",
    "        if i != N-2:\n",
    "            CDM[i,i] += -D/h**2\n",
    "            CDM[i,i+1] = D/h**2\n",
    "    return CDM\n",
    "\n",
    "\n",
    "def init_dist(x,width,amp): # Define the initial distribution\n",
    "    A0 = np.zeros(np.shape(x))\n",
    "    A0temp = np.exp(-width**2/(width**2 - x**2))\n",
    "    inrange = (x > -width)*(x < width)\n",
    "    A0[inrange] = A0temp[inrange]\n",
    "    return amp*np.exp(1)*A0\n",
    "\n",
    "\n",
    "def create_phi_funcs(tt_max):\n",
    "    if tt_max > t_max*mon2sec:\n",
    "        t_end_long = tt_max/mon2sec\n",
    "    else:\n",
    "        t_end_long = t_max\n",
    "    t = np.arange(0,t_end,dt) # time discretization\n",
    "    \n",
    "    CDM = getCDM()\n",
    "    A = np.zeros((np.size(x), np.size(t)))\n",
    "    A[:,0] = init_dist(x,a,B) # Setting the initial condition\n",
    "    for j in range(1,np.size(t)): # Solve the pde\n",
    "        dAdt = np.zeros(np.shape(x))\n",
    "        dAdt[1:N] = np.dot(CDM,A[1:N,j-1])\n",
    "        dAdt[0] = dAdt[1]\n",
    "        dAdt[N] = dAdt[N-1]\n",
    "        A[:,j] = A[:,j-1] + dAdt*dt # Step through time\n",
    "    \n",
    "    phi_continuous = 1 - beta*A # Calculate relative radiation reduction\n",
    "    phi_k = np.zeros((6,np.size(t)))\n",
    "    for i in range(np.size(t)):\n",
    "        for j in range(-3,3):\n",
    "            xrange = (x>=j*30)*(x<=(j+1)*30)\n",
    "            phi_k[j+3,i] = np.mean(phi_continuous[xrange,i]) # Calculate zonal average\n",
    "    \n",
    "    t_span_long = np.arange(t_end,t_end_long,dt_long)\n",
    "    phi_extension = np.array(list(map(lambda k: 1-(1-phi_k[k,-1])*np.exp(gamma*t[-1])*np.exp(-gamma*t_span_long),range(6))))\n",
    "    phi_k = np.append(phi_k,phi_extension,axis=1)\n",
    "    t = np.append(t,t_span_long)\n",
    "\n",
    "    phi_funcs = []\n",
    "    for i in range(6):\n",
    "        phi_funcs.append(interp1d(t*mon2sec,phi_k[i,:]))\n",
    "    return phi_funcs"
   ]
  },
  {
   "cell_type": "code",
   "execution_count": 9,
   "metadata": {},
   "outputs": [],
   "source": [
    "phi_k = create_phi_funcs(t_max)"
   ]
  },
  {
   "cell_type": "code",
   "execution_count": 21,
   "metadata": {},
   "outputs": [],
   "source": [
    "def phi(tt, tt_max):\n",
    "    if tt_max > t_max*mon2sec:\n",
    "        phi_funcs = create_phi_funcs(tt_max)\n",
    "    else:\n",
    "        phi_funcs = phi_k\n",
    "    t = tt - t_start\n",
    "    phi_k_t = np.ones(8)\n",
    "    for k in range(1,7):\n",
    "        phi_k_t[k] = phi_funcs[k-1](t)\n",
    "    return phi_k_t"
   ]
  },
  {
   "cell_type": "code",
   "execution_count": 22,
   "metadata": {},
   "outputs": [
    {
     "ename": "IndexError",
     "evalue": "list index out of range",
     "output_type": "error",
     "traceback": [
      "\u001b[1;31m---------------------------------------------------------------------------\u001b[0m",
      "\u001b[1;31mIndexError\u001b[0m                                Traceback (most recent call last)",
      "\u001b[1;32m<ipython-input-22-944b87136636>\u001b[0m in \u001b[0;36m<module>\u001b[1;34m\u001b[0m\n\u001b[0;32m      5\u001b[0m \u001b[0mplt\u001b[0m\u001b[1;33m.\u001b[0m\u001b[0mplot\u001b[0m\u001b[1;33m(\u001b[0m\u001b[0mt_span\u001b[0m\u001b[1;33m,\u001b[0m\u001b[0mphi_funcs\u001b[0m\u001b[1;33m[\u001b[0m\u001b[1;36m1\u001b[0m\u001b[1;33m]\u001b[0m\u001b[1;33m(\u001b[0m\u001b[0mt_span\u001b[0m\u001b[1;33m)\u001b[0m\u001b[1;33m)\u001b[0m\u001b[1;33m\u001b[0m\u001b[1;33m\u001b[0m\u001b[0m\n\u001b[0;32m      6\u001b[0m \u001b[1;33m\u001b[0m\u001b[0m\n\u001b[1;32m----> 7\u001b[1;33m \u001b[0mprint\u001b[0m\u001b[1;33m(\u001b[0m\u001b[0mphi\u001b[0m\u001b[1;33m(\u001b[0m\u001b[1;36m0.3E8\u001b[0m\u001b[1;33m,\u001b[0m\u001b[0mtt_max\u001b[0m\u001b[1;33m)\u001b[0m\u001b[1;33m)\u001b[0m\u001b[1;33m\u001b[0m\u001b[1;33m\u001b[0m\u001b[0m\n\u001b[0m",
      "\u001b[1;32m<ipython-input-21-d551169cb687>\u001b[0m in \u001b[0;36mphi\u001b[1;34m(tt, tt_max)\u001b[0m\n\u001b[0;32m      7\u001b[0m     \u001b[0mphi_k_t\u001b[0m \u001b[1;33m=\u001b[0m \u001b[0mnp\u001b[0m\u001b[1;33m.\u001b[0m\u001b[0mones\u001b[0m\u001b[1;33m(\u001b[0m\u001b[1;36m8\u001b[0m\u001b[1;33m)\u001b[0m\u001b[1;33m\u001b[0m\u001b[1;33m\u001b[0m\u001b[0m\n\u001b[0;32m      8\u001b[0m     \u001b[1;32mfor\u001b[0m \u001b[0mk\u001b[0m \u001b[1;32min\u001b[0m \u001b[0mrange\u001b[0m\u001b[1;33m(\u001b[0m\u001b[1;36m1\u001b[0m\u001b[1;33m,\u001b[0m\u001b[1;36m7\u001b[0m\u001b[1;33m)\u001b[0m\u001b[1;33m:\u001b[0m\u001b[1;33m\u001b[0m\u001b[1;33m\u001b[0m\u001b[0m\n\u001b[1;32m----> 9\u001b[1;33m         \u001b[0mphi_k_t\u001b[0m\u001b[1;33m[\u001b[0m\u001b[0mk\u001b[0m\u001b[1;33m-\u001b[0m\u001b[1;36m1\u001b[0m\u001b[1;33m]\u001b[0m \u001b[1;33m=\u001b[0m \u001b[0mphi_funcs\u001b[0m\u001b[1;33m[\u001b[0m\u001b[0mk\u001b[0m\u001b[1;33m]\u001b[0m\u001b[1;33m(\u001b[0m\u001b[0mt\u001b[0m\u001b[1;33m)\u001b[0m\u001b[1;33m\u001b[0m\u001b[1;33m\u001b[0m\u001b[0m\n\u001b[0m\u001b[0;32m     10\u001b[0m     \u001b[1;32mreturn\u001b[0m \u001b[0mphi_k_t\u001b[0m\u001b[1;33m\u001b[0m\u001b[1;33m\u001b[0m\u001b[0m\n",
      "\u001b[1;31mIndexError\u001b[0m: list index out of range"
     ]
    },
    {
     "data": {
      "image/png": "[encoded data removed]",
      "text/plain": [
       "<Figure size 432x288 with 1 Axes>"
      ]
     },
     "metadata": {
      "needs_background": "light"
     },
     "output_type": "display_data"
    }
   ],
   "source": [
    "tt_max = 3E8\n",
    "t_span = np.linspace(0,tt_max,1000)\n",
    "\n",
    "phi_funcs = phi_k\n",
    "plt.plot(t_span,phi_funcs[1](t_span))\n",
    "\n",
    "print(phi(0.3E8,tt_max))"
   ]
  }
 ],
 "metadata": {
  "kernelspec": {
   "display_name": "Python 3",
   "language": "python",
   "name": "python3"
  },
  "language_info": {
   "codemirror_mode": {
    "name": "ipython",
    "version": 3
   },
   "file_extension": ".py",
   "mimetype": "text/x-python",
   "name": "python",
   "nbconvert_exporter": "python",
   "pygments_lexer": "ipython3",
   "version": "3.8.1"
  }
 },
 "nbformat": 4,
 "nbformat_minor": 4
}
